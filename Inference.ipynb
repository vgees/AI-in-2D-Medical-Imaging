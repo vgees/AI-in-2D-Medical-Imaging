{
 "cells": [
  {
   "cell_type": "code",
   "execution_count": 1,
   "metadata": {},
   "outputs": [
    {
     "name": "stderr",
     "output_type": "stream",
     "text": [
      "Using TensorFlow backend.\n"
     ]
    }
   ],
   "source": [
    "## Loading standard modules and libraries \n",
    "\n",
    "import numpy as np\n",
    "import pandas as pd\n",
    "import pydicom\n",
    "%matplotlib inline\n",
    "import matplotlib.pyplot as plt\n",
    "\n",
    "import keras \n",
    "from keras.models import Sequential\n",
    "from keras.layers import Dense\n",
    "from keras.models import model_from_json\n",
    "from skimage.transform import resize"
   ]
  },
  {
   "cell_type": "code",
   "execution_count": 2,
   "metadata": {},
   "outputs": [],
   "source": [
    "# This function reads in a .dcm file, checks the important fields for our device, and returns a numpy array\n",
    "# of just the imaging data\n",
    "\n",
    "def check_dicom(filename): \n",
    "    \n",
    "    print('Loading file {} ...'.format(filename))\n",
    "    ds = pydicom.dcmread(filename)   \n",
    "    \n",
    "    if (ds.BodyPartExamined !='CHEST') | (ds.Modality !='DX') | (ds.PatientPosition not in ['PA', 'AP']):\n",
    "        print('The image is not valid because the image position, the image type or the body part is not as per standards')\n",
    "        return\n",
    "    else:\n",
    "        print('ID:', ds.PatientID, \n",
    "              'Age:', ds.PatientAge, \n",
    "              'Modality:', ds.Modality,\n",
    "              'Postion: ', ds.PatientPosition, \n",
    "              'Body Part: ', ds.BodyPartExamined, \n",
    "              'Study Desc: ', ds.StudyDescription)\n",
    "    \n",
    "    img = ds.pixel_array\n",
    "    return img\n",
    "    \n",
    "    \n",
    "# This function takes the numpy array output by check_dicom and \n",
    "# runs the appropriate pre-processing needed for our model input\n",
    "\n",
    "def preprocess_image(img,img_mean,img_std,img_size): \n",
    "    # todo\n",
    "    \n",
    "    img = resize(img, (224,224))   \n",
    "    img = img / 255.0  \n",
    "    grey_img = (img - img_mean) / img_std \n",
    "    \n",
    "    proc_img = np.zeros((224,224,3))\n",
    "    proc_img[:, :, 0] = grey_img\n",
    "    proc_img[:, :, 1] = grey_img\n",
    "    proc_img[:, :, 2] = grey_img\n",
    "    \n",
    "    proc_img = np.resize(proc_img, img_size)\n",
    "    \n",
    "    return proc_img\n",
    "\n",
    "# This function loads in our trained model w/ weights and compiles it \n",
    "\n",
    "def load_model(model_path, weight_path):\n",
    "    # todo\n",
    "    \n",
    "    json_file = open(model_path, 'r')\n",
    "    loaded_model_json = json_file.read()\n",
    "    json_file.close()\n",
    "    model = model_from_json(loaded_model_json)\n",
    "    model.load_weights(weight_path)\n",
    "    \n",
    "    return model\n",
    "\n",
    "# This function uses our device's threshold parameters to predict whether or not\n",
    "# the image shows the presence of pneumonia using our trained model\n",
    "\n",
    "def predict_image(model, img, thresh): \n",
    "    # todo    \n",
    "    \n",
    "    result = model.predict(img)  \n",
    "    print('Predicted value:', result)\n",
    "    \n",
    "    predict=result[0]\n",
    "    prediction = \"Negative\"\n",
    "    if(predict > thresh):\n",
    "        prediction = \"Positive\"\n",
    "    \n",
    "    return prediction "
   ]
  },
  {
   "cell_type": "code",
   "execution_count": 3,
   "metadata": {},
   "outputs": [
    {
     "name": "stdout",
     "output_type": "stream",
     "text": [
      "Loading file test1.dcm ...\n",
      "ID: 2 Age: 81 Modality: DX Postion:  PA Body Part:  CHEST Study Desc:  No Finding\n",
      "Predicted value: [[0.4775539]]\n",
      "Model Classification: Negative for Pneumonia\n",
      "--------------------------------------------------------------------------------------------------------\n",
      "Loading file test2.dcm ...\n",
      "ID: 1 Age: 58 Modality: DX Postion:  AP Body Part:  CHEST Study Desc:  Cardiomegaly\n",
      "Predicted value: [[0.47687072]]\n",
      "Model Classification: Negative for Pneumonia\n",
      "--------------------------------------------------------------------------------------------------------\n",
      "Loading file test3.dcm ...\n",
      "ID: 61 Age: 77 Modality: DX Postion:  AP Body Part:  CHEST Study Desc:  Effusion\n",
      "Predicted value: [[0.47764364]]\n",
      "Model Classification: Negative for Pneumonia\n",
      "--------------------------------------------------------------------------------------------------------\n",
      "Loading file test4.dcm ...\n",
      "The image is not valid because the image position, the image type or the body part is not as per standards\n",
      "Loading file test5.dcm ...\n",
      "The image is not valid because the image position, the image type or the body part is not as per standards\n",
      "Loading file test6.dcm ...\n",
      "The image is not valid because the image position, the image type or the body part is not as per standards\n"
     ]
    }
   ],
   "source": [
    "test_dicoms = ['test1.dcm','test2.dcm','test3.dcm','test4.dcm','test5.dcm','test6.dcm']\n",
    "\n",
    "model_path = \"my_model2.json\" #path to saved model\n",
    "weight_path = \"xray_class_my_model2.best.hdf5\" #path to saved best weights\n",
    "\n",
    "IMG_SIZE=(1,224,224,3) # This might be different if you did not use vgg16\n",
    "img_mean = 0.49262813   # mean image value from Build and train model line 22\n",
    "img_std = 0.24496286 # loads the std dev from Build and train model line 22\n",
    "\n",
    "my_model = load_model(model_path, weight_path) #loads model\n",
    "thresh = 0.62786263 #threshold value for New Model2 from Build and train model line 66 at 80% Precision \n",
    "\n",
    "\n",
    "# use the .dcm files to test your prediction\n",
    "for i in test_dicoms:\n",
    "    \n",
    "    img = np.array([])\n",
    "    img = check_dicom(i)\n",
    "    \n",
    "    if img is None:\n",
    "        continue\n",
    "        \n",
    "    img_proc = preprocess_image(img,img_mean,img_std,IMG_SIZE)\n",
    "    pred = predict_image(my_model,img_proc,thresh)\n",
    "    print('Model Classification:', pred , 'for Pneumonia' )\n",
    "    print('--------------------------------------------------------------------------------------------------------')"
   ]
  },
  {
   "cell_type": "markdown",
   "metadata": {},
   "source": [
    "Threshold of 0.62786263 is considered at 80% Precision"
   ]
  },
  {
   "cell_type": "code",
   "execution_count": null,
   "metadata": {},
   "outputs": [],
   "source": []
  }
 ],
 "metadata": {
  "kernelspec": {
   "display_name": "Python 3",
   "language": "python",
   "name": "python3"
  },
  "language_info": {
   "codemirror_mode": {
    "name": "ipython",
    "version": 3
   },
   "file_extension": ".py",
   "mimetype": "text/x-python",
   "name": "python",
   "nbconvert_exporter": "python",
   "pygments_lexer": "ipython3",
   "version": "3.7.6"
  }
 },
 "nbformat": 4,
 "nbformat_minor": 2
}
